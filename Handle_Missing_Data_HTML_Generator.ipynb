{
 "cells": [
  {
   "cell_type": "code",
   "execution_count": null,
   "id": "4420b2e9-2575-446d-b03b-2d344b54a956",
   "metadata": {},
   "outputs": [],
   "source": [
    "import nbformat\n",
    "from nbconvert.preprocessors import ExecutePreprocessor\n",
    "from nbconvert import HTMLExporter\n",
    "\n",
    "notebook_filename = \"Handle_Missing_Data.ipynb\"\n",
    "\n",
    "with open(notebook_filename) as f:\n",
    "    nb = nbformat.read(f, as_version=4)\n",
    "\n",
    "ep = ExecutePreprocessor(timeout=600)\n",
    "\n",
    "ep.preprocess(nb, {'metadata': {'path': '/'}})\n",
    "\n",
    "html_exporter = HTMLExporter()\n",
    "\n",
    "html_data, resources = html_exporter.from_notebook_node(nb)\n",
    "\n",
    "with open(\"Handle_Missing_Data_output.html\", \"w\") as f:\n",
    "    f.write(html_data)\n",
    "    f.close()"
   ]
  }
 ],
 "metadata": {
  "kernelspec": {
   "display_name": "Python 3 (ipykernel)",
   "language": "python",
   "name": "python3"
  },
  "language_info": {
   "codemirror_mode": {
    "name": "ipython",
    "version": 3
   },
   "file_extension": ".py",
   "mimetype": "text/x-python",
   "name": "python",
   "nbconvert_exporter": "python",
   "pygments_lexer": "ipython3",
   "version": "3.11.11"
  }
 },
 "nbformat": 4,
 "nbformat_minor": 5
}
