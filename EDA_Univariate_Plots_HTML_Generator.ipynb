{
 "cells": [
  {
   "cell_type": "code",
   "execution_count": 1,
   "execution_state": "idle",
   "id": "243ba2cf-6991-42ac-af17-0bd4642d7e80",
   "metadata": {},
   "outputs": [],
   "source": [
    "import nbformat\n",
    "from nbconvert.preprocessors import ExecutePreprocessor\n",
    "from nbconvert import HTMLExporter\n",
    "\n",
    "notebook_filename = \"EDA_Univariate_Plots.ipynb\"\n",
    "\n",
    "with open(notebook_filename) as f:\n",
    "    nb = nbformat.read(f, as_version=4)\n",
    "\n",
    "ep = ExecutePreprocessor(timeout=600)\n",
    "\n",
    "ep.preprocess(nb, {'metadata': {'path': '/'}})\n",
    "\n",
    "html_exporter = HTMLExporter()\n",
    "\n",
    "html_data, resources = html_exporter.from_notebook_node(nb)\n",
    "\n",
    "with open(\"EDA_Univariate_plots_output.html\", \"w\") as f:\n",
    "    f.write(html_data)\n",
    "    f.close()"
   ]
  },
  {
   "cell_type": "code",
   "execution_count": null,
   "execution_state": "idle",
   "id": "34fbbf02-9c65-4851-bcdd-9d190fd2d3f6",
   "metadata": {},
   "outputs": [],
   "source": []
  }
 ],
 "metadata": {
  "kernelspec": {
   "display_name": "Python 3 (ipykernel)",
   "language": "python",
   "name": "python3"
  },
  "language_info": {
   "codemirror_mode": {
    "name": "ipython",
    "version": 3
   },
   "file_extension": ".py",
   "mimetype": "text/x-python",
   "name": "python",
   "nbconvert_exporter": "python",
   "pygments_lexer": "ipython3",
   "version": "3.11.11"
  }
 },
 "nbformat": 4,
 "nbformat_minor": 5
}
