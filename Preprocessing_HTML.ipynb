{
 "cells": [
  {
   "cell_type": "code",
   "execution_count": 5,
   "execution_state": "idle",
   "id": "243ba2cf-6991-42ac-af17-0bd4642d7e80",
   "metadata": {},
   "outputs": [
    {
     "name": "stderr",
     "output_type": "stream",
     "text": [
      "*** SIGTERM received at time=1744215421 on cpu 0 ***\n",
      "PC: @     0x7f4ae93d9e2e  (unknown)  epoll_wait\n",
      "    @     0x7f4a94fe04fd         64  absl::lts_20230802::AbslFailureSignalHandler()\n",
      "    @     0x7f4ae92f6520  (unknown)  (unknown)\n",
      "[2025-04-09 16:17:01,857 E 5410 5410] logging.cc:440: *** SIGTERM received at time=1744215421 on cpu 0 ***\n",
      "[2025-04-09 16:17:01,857 E 5410 5410] logging.cc:440: PC: @     0x7f4ae93d9e2e  (unknown)  epoll_wait\n",
      "[2025-04-09 16:17:01,862 E 5410 5410] logging.cc:440:     @     0x7f4a94fe0529         64  absl::lts_20230802::AbslFailureSignalHandler()\n",
      "[2025-04-09 16:17:01,862 E 5410 5410] logging.cc:440:     @     0x7f4ae92f6520  (unknown)  (unknown)\n"
     ]
    }
   ],
   "source": [
    "import nbformat\n",
    "from nbconvert.preprocessors import ExecutePreprocessor\n",
    "from nbconvert import HTMLExporter\n",
    "\n",
    "notebook_filename = \"Preprocessing.ipynb\"\n",
    "\n",
    "with open(notebook_filename) as f:\n",
    "    nb = nbformat.read(f, as_version=4)\n",
    "\n",
    "ep = ExecutePreprocessor(timeout=600)\n",
    "\n",
    "ep.preprocess(nb, {'metadata': {'path': '/'}})\n",
    "\n",
    "html_exporter = HTMLExporter()\n",
    "\n",
    "html_data, resources = html_exporter.from_notebook_node(nb)\n",
    "\n",
    "with open(\"Preprocessing.html\", \"w\") as f:\n",
    "    f.write(html_data)\n",
    "    f.close()"
   ]
  },
  {
   "cell_type": "code",
   "execution_count": null,
   "id": "34fbbf02-9c65-4851-bcdd-9d190fd2d3f6",
   "metadata": {},
   "outputs": [],
   "source": []
  }
 ],
 "metadata": {
  "kernelspec": {
   "display_name": "Python 3 (ipykernel)",
   "language": "python",
   "name": "python3"
  },
  "language_info": {
   "codemirror_mode": {
    "name": "ipython",
    "version": 3
   },
   "file_extension": ".py",
   "mimetype": "text/x-python",
   "name": "python",
   "nbconvert_exporter": "python",
   "pygments_lexer": "ipython3",
   "version": "3.11.11"
  }
 },
 "nbformat": 4,
 "nbformat_minor": 5
}
