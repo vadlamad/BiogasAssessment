{
 "cells": [
  {
   "cell_type": "code",
   "execution_count": 1,
   "execution_state": "idle",
   "id": "1b3bcee1-3d7d-44f6-a05a-fc15d64703aa",
   "metadata": {},
   "outputs": [
    {
     "name": "stderr",
     "output_type": "stream",
     "text": [
      "*** SIGTERM received at time=1744229852 on cpu 1 ***\n",
      "PC: @     0x7f01a42bfe2e  (unknown)  epoll_wait\n",
      "    @     0x7f015361d4fd         64  absl::lts_20230802::AbslFailureSignalHandler()\n",
      "    @     0x7f01a41dc520  (unknown)  (unknown)\n",
      "[2025-04-09 20:17:32,369 E 12709 12709] logging.cc:440: *** SIGTERM received at time=1744229852 on cpu 1 ***\n",
      "[2025-04-09 20:17:32,369 E 12709 12709] logging.cc:440: PC: @     0x7f01a42bfe2e  (unknown)  epoll_wait\n",
      "[2025-04-09 20:17:32,374 E 12709 12709] logging.cc:440:     @     0x7f015361d529         64  absl::lts_20230802::AbslFailureSignalHandler()\n",
      "[2025-04-09 20:17:32,374 E 12709 12709] logging.cc:440:     @     0x7f01a41dc520  (unknown)  (unknown)\n"
     ]
    }
   ],
   "source": [
    "import nbformat\n",
    "from nbconvert.preprocessors import ExecutePreprocessor\n",
    "from nbconvert import HTMLExporter\n",
    "\n",
    "notebook_filename = \"EDA_Multivariate_Plots.ipynb\"\n",
    "\n",
    "with open(notebook_filename) as f:\n",
    "    nb = nbformat.read(f, as_version=4)\n",
    "\n",
    "ep = ExecutePreprocessor(timeout=600)\n",
    "\n",
    "ep.preprocess(nb, {'metadata': {'path': '/'}})\n",
    "\n",
    "html_exporter = HTMLExporter()\n",
    "\n",
    "html_data, resources = html_exporter.from_notebook_node(nb)\n",
    "\n",
    "with open(\"EDA_Multivariate_plots_output.html\", \"w\") as f:\n",
    "    f.write(html_data)\n",
    "    f.close()"
   ]
  },
  {
   "cell_type": "code",
   "execution_count": null,
   "id": "8fa94e19-65e0-418b-bed0-9ff7363be8f8",
   "metadata": {},
   "outputs": [],
   "source": []
  }
 ],
 "metadata": {
  "kernelspec": {
   "display_name": "Python 3 (ipykernel)",
   "language": "python",
   "name": "python3"
  },
  "language_info": {
   "codemirror_mode": {
    "name": "ipython",
    "version": 3
   },
   "file_extension": ".py",
   "mimetype": "text/x-python",
   "name": "python",
   "nbconvert_exporter": "python",
   "pygments_lexer": "ipython3",
   "version": "3.11.11"
  }
 },
 "nbformat": 4,
 "nbformat_minor": 5
}
