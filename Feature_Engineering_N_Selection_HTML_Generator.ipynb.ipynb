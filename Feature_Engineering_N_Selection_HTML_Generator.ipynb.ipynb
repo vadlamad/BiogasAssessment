{
 "cells": [
  {
   "cell_type": "code",
   "execution_count": 1,
   "execution_state": "idle",
   "id": "bc1fa7a5-9a3d-435c-8743-4cdb508a17e4",
   "metadata": {},
   "outputs": [
    {
     "name": "stderr",
     "output_type": "stream",
     "text": [
      "*** SIGTERM received at time=1744245404 on cpu 0 ***\n",
      "PC: @     0x7fa07b076e2e  (unknown)  epoll_wait\n",
      "    @     0x7fa026c7e4fd         64  absl::lts_20230802::AbslFailureSignalHandler()\n",
      "    @     0x7fa07af93520  (unknown)  (unknown)\n",
      "[2025-04-10 00:36:44,088 E 23324 23324] logging.cc:440: *** SIGTERM received at time=1744245404 on cpu 0 ***\n",
      "[2025-04-10 00:36:44,089 E 23324 23324] logging.cc:440: PC: @     0x7fa07b076e2e  (unknown)  epoll_wait\n",
      "[2025-04-10 00:36:44,094 E 23324 23324] logging.cc:440:     @     0x7fa026c7e529         64  absl::lts_20230802::AbslFailureSignalHandler()\n",
      "[2025-04-10 00:36:44,094 E 23324 23324] logging.cc:440:     @     0x7fa07af93520  (unknown)  (unknown)\n"
     ]
    }
   ],
   "source": [
    "import nbformat\n",
    "from nbconvert.preprocessors import ExecutePreprocessor\n",
    "from nbconvert import HTMLExporter\n",
    "\n",
    "notebook_filename = \"Feature_Engineering_N_Selection.ipynb\"\n",
    "\n",
    "with open(notebook_filename) as f:\n",
    "    nb = nbformat.read(f, as_version=4)\n",
    "\n",
    "ep = ExecutePreprocessor(timeout=600)\n",
    "\n",
    "ep.preprocess(nb, {'metadata': {'path': '/'}})\n",
    "\n",
    "html_exporter = HTMLExporter()\n",
    "\n",
    "html_data, resources = html_exporter.from_notebook_node(nb)\n",
    "\n",
    "with open(\"Feature_Engineering_N_Selection_output.html\", \"w\") as f:\n",
    "    f.write(html_data)\n",
    "    f.close()"
   ]
  },
  {
   "cell_type": "code",
   "execution_count": null,
   "id": "2e777e27-22dd-451e-a9dc-d9c44d17f08c",
   "metadata": {},
   "outputs": [],
   "source": []
  }
 ],
 "metadata": {
  "kernelspec": {
   "display_name": "Python 3 (ipykernel)",
   "language": "python",
   "name": "python3"
  },
  "language_info": {
   "codemirror_mode": {
    "name": "ipython",
    "version": 3
   },
   "file_extension": ".py",
   "mimetype": "text/x-python",
   "name": "python",
   "nbconvert_exporter": "python",
   "pygments_lexer": "ipython3",
   "version": "3.11.11"
  }
 },
 "nbformat": 4,
 "nbformat_minor": 5
}
