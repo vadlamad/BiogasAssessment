{
 "cells": [
  {
   "cell_type": "code",
   "execution_count": 1,
   "execution_state": "idle",
   "id": "83c832e4-2592-4f2c-a238-35925b9a9ca2",
   "metadata": {},
   "outputs": [
    {
     "name": "stderr",
     "output_type": "stream",
     "text": [
      "2025-04-10 02:00:48.067028: I tensorflow/core/platform/cpu_feature_guard.cc:210] This TensorFlow binary is optimized to use available CPU instructions in performance-critical operations.\n",
      "To enable the following instructions: SSE4.1 SSE4.2 AVX AVX2 AVX512F FMA, in other operations, rebuild TensorFlow with the appropriate compiler flags.\n",
      "*** SIGTERM received at time=1744250666 on cpu 1 ***\n",
      "PC: @     0x7f8d0d2ebe2e  (unknown)  epoll_wait\n",
      "    @     0x7f8cbd8764fd         64  absl::lts_20230802::AbslFailureSignalHandler()\n",
      "    @     0x7f8d0d208520  (unknown)  (unknown)\n",
      "[2025-04-10 02:04:26,810 E 27277 27277] logging.cc:440: *** SIGTERM received at time=1744250666 on cpu 1 ***\n",
      "[2025-04-10 02:04:26,810 E 27277 27277] logging.cc:440: PC: @     0x7f8d0d2ebe2e  (unknown)  epoll_wait\n",
      "[2025-04-10 02:04:26,815 E 27277 27277] logging.cc:440:     @     0x7f8cbd876529         64  absl::lts_20230802::AbslFailureSignalHandler()\n",
      "[2025-04-10 02:04:26,815 E 27277 27277] logging.cc:440:     @     0x7f8d0d208520  (unknown)  (unknown)\n"
     ]
    }
   ],
   "source": [
    "import nbformat\n",
    "from nbconvert.preprocessors import ExecutePreprocessor\n",
    "from nbconvert import HTMLExporter\n",
    "\n",
    "notebook_filename = \"Model_Build_n_Optimize.ipynb\"\n",
    "\n",
    "with open(notebook_filename) as f:\n",
    "    nb = nbformat.read(f, as_version=4)\n",
    "\n",
    "ep = ExecutePreprocessor(timeout=600)\n",
    "\n",
    "ep.preprocess(nb, {'metadata': {'path': '/'}})\n",
    "\n",
    "html_exporter = HTMLExporter()\n",
    "\n",
    "html_data, resources = html_exporter.from_notebook_node(nb)\n",
    "\n",
    "with open(\"Model_Build_n_Optimize_output.html\", \"w\") as f:\n",
    "    f.write(html_data)\n",
    "    f.close()"
   ]
  },
  {
   "cell_type": "code",
   "execution_count": null,
   "id": "6cb19db3-351e-454d-82e3-df59d18689ac",
   "metadata": {},
   "outputs": [],
   "source": []
  }
 ],
 "metadata": {
  "kernelspec": {
   "display_name": "Python 3 (ipykernel)",
   "language": "python",
   "name": "python3"
  },
  "language_info": {
   "codemirror_mode": {
    "name": "ipython",
    "version": 3
   },
   "file_extension": ".py",
   "mimetype": "text/x-python",
   "name": "python",
   "nbconvert_exporter": "python",
   "pygments_lexer": "ipython3",
   "version": "3.11.11"
  }
 },
 "nbformat": 4,
 "nbformat_minor": 5
}
